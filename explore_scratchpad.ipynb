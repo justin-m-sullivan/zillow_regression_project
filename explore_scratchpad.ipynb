{
 "cells": [
  {
   "cell_type": "markdown",
   "metadata": {},
   "source": [
    "# Explore Scratchpad\n",
    "This notebook is where I am working through my messy exploration stage of the zillow data and testing modules developed so far."
   ]
  },
  {
   "cell_type": "code",
   "execution_count": 1,
   "metadata": {},
   "outputs": [],
   "source": [
    "import numpy as np\n",
    "import pandas as pd\n",
    "import seaborn as sns\n",
    "import matplotlib.pyplot as plt \n",
    "from env import host, user, password\n",
    "import evaluate\n",
    "import prepare\n",
    "import acquire\n",
    "import os\n",
    "from math import sqrt\n",
    "import math\n",
    "\n",
    "from scipy import stats\n",
    "\n",
    "import sklearn.preprocessing\n",
    "from sklearn.metrics import mean_squared_error\n",
    "from sklearn.linear_model import LinearRegression, LassoLars, TweedieRegressor\n",
    "from sklearn.preprocessing import PolynomialFeatures\n",
    "\n",
    "# Handle large numbers w/o using scientific notation\n",
    "pd.options.display.float_format = '{:.3f}'.format\n",
    "\n",
    "import warnings\n",
    "warnings.filterwarnings('ignore')"
   ]
  },
  {
   "cell_type": "code",
   "execution_count": 2,
   "metadata": {},
   "outputs": [
    {
     "data": {
      "text/html": [
       "<div>\n",
       "<style scoped>\n",
       "    .dataframe tbody tr th:only-of-type {\n",
       "        vertical-align: middle;\n",
       "    }\n",
       "\n",
       "    .dataframe tbody tr th {\n",
       "        vertical-align: top;\n",
       "    }\n",
       "\n",
       "    .dataframe thead th {\n",
       "        text-align: right;\n",
       "    }\n",
       "</style>\n",
       "<table border=\"1\" class=\"dataframe\">\n",
       "  <thead>\n",
       "    <tr style=\"text-align: right;\">\n",
       "      <th></th>\n",
       "      <th>parcelid</th>\n",
       "      <th>bathroomcnt</th>\n",
       "      <th>bedroomcnt</th>\n",
       "      <th>calculatedbathnbr</th>\n",
       "      <th>calculatedfinishedsquarefeet</th>\n",
       "      <th>fips</th>\n",
       "      <th>latitude</th>\n",
       "      <th>longitude</th>\n",
       "      <th>structuretaxvaluedollarcnt</th>\n",
       "      <th>taxvaluedollarcnt</th>\n",
       "      <th>landtaxvaluedollarcnt</th>\n",
       "      <th>taxamount</th>\n",
       "      <th>unitcnt</th>\n",
       "      <th>propertylandusetypeid</th>\n",
       "      <th>propertylandusedesc</th>\n",
       "    </tr>\n",
       "  </thead>\n",
       "  <tbody>\n",
       "    <tr>\n",
       "      <th>0</th>\n",
       "      <td>11721753</td>\n",
       "      <td>2.000</td>\n",
       "      <td>3.000</td>\n",
       "      <td>2.000</td>\n",
       "      <td>1316.000</td>\n",
       "      <td>6037.000</td>\n",
       "      <td>34033180.000</td>\n",
       "      <td>-118355396.000</td>\n",
       "      <td>41948.000</td>\n",
       "      <td>205123.000</td>\n",
       "      <td>163175.000</td>\n",
       "      <td>2627.480</td>\n",
       "      <td>1.000</td>\n",
       "      <td>261.000</td>\n",
       "      <td>Single Family Residential</td>\n",
       "    </tr>\n",
       "    <tr>\n",
       "      <th>1</th>\n",
       "      <td>11289917</td>\n",
       "      <td>2.000</td>\n",
       "      <td>3.000</td>\n",
       "      <td>2.000</td>\n",
       "      <td>1458.000</td>\n",
       "      <td>6037.000</td>\n",
       "      <td>34686163.000</td>\n",
       "      <td>-118113100.000</td>\n",
       "      <td>108890.000</td>\n",
       "      <td>136104.000</td>\n",
       "      <td>27214.000</td>\n",
       "      <td>2319.900</td>\n",
       "      <td>1.000</td>\n",
       "      <td>261.000</td>\n",
       "      <td>Single Family Residential</td>\n",
       "    </tr>\n",
       "    <tr>\n",
       "      <th>2</th>\n",
       "      <td>11637029</td>\n",
       "      <td>2.000</td>\n",
       "      <td>3.000</td>\n",
       "      <td>2.000</td>\n",
       "      <td>1766.000</td>\n",
       "      <td>6037.000</td>\n",
       "      <td>34073222.000</td>\n",
       "      <td>-118390965.000</td>\n",
       "      <td>256538.000</td>\n",
       "      <td>810694.000</td>\n",
       "      <td>554156.000</td>\n",
       "      <td>9407.010</td>\n",
       "      <td>1.000</td>\n",
       "      <td>266.000</td>\n",
       "      <td>Condominium</td>\n",
       "    </tr>\n",
       "    <tr>\n",
       "      <th>3</th>\n",
       "      <td>11705026</td>\n",
       "      <td>1.000</td>\n",
       "      <td>2.000</td>\n",
       "      <td>1.000</td>\n",
       "      <td>1421.000</td>\n",
       "      <td>6037.000</td>\n",
       "      <td>33999877.000</td>\n",
       "      <td>-118291863.000</td>\n",
       "      <td>11982.000</td>\n",
       "      <td>35606.000</td>\n",
       "      <td>23624.000</td>\n",
       "      <td>543.690</td>\n",
       "      <td>1.000</td>\n",
       "      <td>261.000</td>\n",
       "      <td>Single Family Residential</td>\n",
       "    </tr>\n",
       "    <tr>\n",
       "      <th>4</th>\n",
       "      <td>11446756</td>\n",
       "      <td>2.000</td>\n",
       "      <td>3.000</td>\n",
       "      <td>2.000</td>\n",
       "      <td>1491.000</td>\n",
       "      <td>6037.000</td>\n",
       "      <td>33873860.000</td>\n",
       "      <td>-118338253.000</td>\n",
       "      <td>60537.000</td>\n",
       "      <td>107110.000</td>\n",
       "      <td>46573.000</td>\n",
       "      <td>1399.270</td>\n",
       "      <td>1.000</td>\n",
       "      <td>261.000</td>\n",
       "      <td>Single Family Residential</td>\n",
       "    </tr>\n",
       "  </tbody>\n",
       "</table>\n",
       "</div>"
      ],
      "text/plain": [
       "   parcelid  bathroomcnt  bedroomcnt  calculatedbathnbr  \\\n",
       "0  11721753        2.000       3.000              2.000   \n",
       "1  11289917        2.000       3.000              2.000   \n",
       "2  11637029        2.000       3.000              2.000   \n",
       "3  11705026        1.000       2.000              1.000   \n",
       "4  11446756        2.000       3.000              2.000   \n",
       "\n",
       "   calculatedfinishedsquarefeet     fips     latitude      longitude  \\\n",
       "0                      1316.000 6037.000 34033180.000 -118355396.000   \n",
       "1                      1458.000 6037.000 34686163.000 -118113100.000   \n",
       "2                      1766.000 6037.000 34073222.000 -118390965.000   \n",
       "3                      1421.000 6037.000 33999877.000 -118291863.000   \n",
       "4                      1491.000 6037.000 33873860.000 -118338253.000   \n",
       "\n",
       "   structuretaxvaluedollarcnt  taxvaluedollarcnt  landtaxvaluedollarcnt  \\\n",
       "0                   41948.000         205123.000             163175.000   \n",
       "1                  108890.000         136104.000              27214.000   \n",
       "2                  256538.000         810694.000             554156.000   \n",
       "3                   11982.000          35606.000              23624.000   \n",
       "4                   60537.000         107110.000              46573.000   \n",
       "\n",
       "   taxamount  unitcnt  propertylandusetypeid        propertylandusedesc  \n",
       "0   2627.480    1.000                261.000  Single Family Residential  \n",
       "1   2319.900    1.000                261.000  Single Family Residential  \n",
       "2   9407.010    1.000                266.000                Condominium  \n",
       "3    543.690    1.000                261.000  Single Family Residential  \n",
       "4   1399.270    1.000                261.000  Single Family Residential  "
      ]
     },
     "execution_count": 2,
     "metadata": {},
     "output_type": "execute_result"
    }
   ],
   "source": [
    "#Acquire the data\n",
    "df = acquire.get_zillow_data(cached=False)\n",
    "df.head()"
   ]
  },
  {
   "cell_type": "code",
   "execution_count": 3,
   "metadata": {},
   "outputs": [],
   "source": [
    "#Clean and Prepare the data\n",
    "df = prepare.prepare_zillow(df)"
   ]
  },
  {
   "cell_type": "code",
   "execution_count": 4,
   "metadata": {},
   "outputs": [
    {
     "data": {
      "text/html": [
       "<div>\n",
       "<style scoped>\n",
       "    .dataframe tbody tr th:only-of-type {\n",
       "        vertical-align: middle;\n",
       "    }\n",
       "\n",
       "    .dataframe tbody tr th {\n",
       "        vertical-align: top;\n",
       "    }\n",
       "\n",
       "    .dataframe thead th {\n",
       "        text-align: right;\n",
       "    }\n",
       "</style>\n",
       "<table border=\"1\" class=\"dataframe\">\n",
       "  <thead>\n",
       "    <tr style=\"text-align: right;\">\n",
       "      <th></th>\n",
       "      <th>bathroomcnt</th>\n",
       "      <th>bedroomcnt</th>\n",
       "      <th>calculatedfinishedsquarefeet</th>\n",
       "      <th>taxvaluedollarcnt</th>\n",
       "    </tr>\n",
       "    <tr>\n",
       "      <th>parcelid</th>\n",
       "      <th></th>\n",
       "      <th></th>\n",
       "      <th></th>\n",
       "      <th></th>\n",
       "    </tr>\n",
       "  </thead>\n",
       "  <tbody>\n",
       "    <tr>\n",
       "      <th>11721753</th>\n",
       "      <td>2.000</td>\n",
       "      <td>3.000</td>\n",
       "      <td>1316.000</td>\n",
       "      <td>205123.000</td>\n",
       "    </tr>\n",
       "    <tr>\n",
       "      <th>11289917</th>\n",
       "      <td>2.000</td>\n",
       "      <td>3.000</td>\n",
       "      <td>1458.000</td>\n",
       "      <td>136104.000</td>\n",
       "    </tr>\n",
       "    <tr>\n",
       "      <th>11637029</th>\n",
       "      <td>2.000</td>\n",
       "      <td>3.000</td>\n",
       "      <td>1766.000</td>\n",
       "      <td>810694.000</td>\n",
       "    </tr>\n",
       "    <tr>\n",
       "      <th>11705026</th>\n",
       "      <td>1.000</td>\n",
       "      <td>2.000</td>\n",
       "      <td>1421.000</td>\n",
       "      <td>35606.000</td>\n",
       "    </tr>\n",
       "    <tr>\n",
       "      <th>11446756</th>\n",
       "      <td>2.000</td>\n",
       "      <td>3.000</td>\n",
       "      <td>1491.000</td>\n",
       "      <td>107110.000</td>\n",
       "    </tr>\n",
       "  </tbody>\n",
       "</table>\n",
       "</div>"
      ],
      "text/plain": [
       "          bathroomcnt  bedroomcnt  calculatedfinishedsquarefeet  \\\n",
       "parcelid                                                          \n",
       "11721753        2.000       3.000                      1316.000   \n",
       "11289917        2.000       3.000                      1458.000   \n",
       "11637029        2.000       3.000                      1766.000   \n",
       "11705026        1.000       2.000                      1421.000   \n",
       "11446756        2.000       3.000                      1491.000   \n",
       "\n",
       "          taxvaluedollarcnt  \n",
       "parcelid                     \n",
       "11721753         205123.000  \n",
       "11289917         136104.000  \n",
       "11637029         810694.000  \n",
       "11705026          35606.000  \n",
       "11446756         107110.000  "
      ]
     },
     "execution_count": 4,
     "metadata": {},
     "output_type": "execute_result"
    }
   ],
   "source": [
    "df.head()"
   ]
  },
  {
   "cell_type": "code",
   "execution_count": 5,
   "metadata": {},
   "outputs": [
    {
     "data": {
      "text/html": [
       "<div>\n",
       "<style scoped>\n",
       "    .dataframe tbody tr th:only-of-type {\n",
       "        vertical-align: middle;\n",
       "    }\n",
       "\n",
       "    .dataframe tbody tr th {\n",
       "        vertical-align: top;\n",
       "    }\n",
       "\n",
       "    .dataframe thead th {\n",
       "        text-align: right;\n",
       "    }\n",
       "</style>\n",
       "<table border=\"1\" class=\"dataframe\">\n",
       "  <thead>\n",
       "    <tr style=\"text-align: right;\">\n",
       "      <th></th>\n",
       "      <th>bathroomcnt</th>\n",
       "      <th>bedroomcnt</th>\n",
       "      <th>calculatedfinishedsquarefeet</th>\n",
       "      <th>taxvaluedollarcnt</th>\n",
       "    </tr>\n",
       "  </thead>\n",
       "  <tbody>\n",
       "    <tr>\n",
       "      <th>count</th>\n",
       "      <td>24947.000</td>\n",
       "      <td>24947.000</td>\n",
       "      <td>24947.000</td>\n",
       "      <td>24947.000</td>\n",
       "    </tr>\n",
       "    <tr>\n",
       "      <th>mean</th>\n",
       "      <td>2.252</td>\n",
       "      <td>2.960</td>\n",
       "      <td>1709.307</td>\n",
       "      <td>480768.967</td>\n",
       "    </tr>\n",
       "    <tr>\n",
       "      <th>std</th>\n",
       "      <td>0.994</td>\n",
       "      <td>1.006</td>\n",
       "      <td>944.334</td>\n",
       "      <td>683040.615</td>\n",
       "    </tr>\n",
       "    <tr>\n",
       "      <th>min</th>\n",
       "      <td>0.000</td>\n",
       "      <td>0.000</td>\n",
       "      <td>240.000</td>\n",
       "      <td>1000.000</td>\n",
       "    </tr>\n",
       "    <tr>\n",
       "      <th>25%</th>\n",
       "      <td>2.000</td>\n",
       "      <td>2.000</td>\n",
       "      <td>1144.000</td>\n",
       "      <td>188000.000</td>\n",
       "    </tr>\n",
       "    <tr>\n",
       "      <th>50%</th>\n",
       "      <td>2.000</td>\n",
       "      <td>3.000</td>\n",
       "      <td>1480.000</td>\n",
       "      <td>334959.000</td>\n",
       "    </tr>\n",
       "    <tr>\n",
       "      <th>75%</th>\n",
       "      <td>3.000</td>\n",
       "      <td>4.000</td>\n",
       "      <td>1988.000</td>\n",
       "      <td>543906.000</td>\n",
       "    </tr>\n",
       "    <tr>\n",
       "      <th>max</th>\n",
       "      <td>11.000</td>\n",
       "      <td>11.000</td>\n",
       "      <td>35640.000</td>\n",
       "      <td>23858374.000</td>\n",
       "    </tr>\n",
       "  </tbody>\n",
       "</table>\n",
       "</div>"
      ],
      "text/plain": [
       "       bathroomcnt  bedroomcnt  calculatedfinishedsquarefeet  \\\n",
       "count    24947.000   24947.000                     24947.000   \n",
       "mean         2.252       2.960                      1709.307   \n",
       "std          0.994       1.006                       944.334   \n",
       "min          0.000       0.000                       240.000   \n",
       "25%          2.000       2.000                      1144.000   \n",
       "50%          2.000       3.000                      1480.000   \n",
       "75%          3.000       4.000                      1988.000   \n",
       "max         11.000      11.000                     35640.000   \n",
       "\n",
       "       taxvaluedollarcnt  \n",
       "count          24947.000  \n",
       "mean          480768.967  \n",
       "std           683040.615  \n",
       "min             1000.000  \n",
       "25%           188000.000  \n",
       "50%           334959.000  \n",
       "75%           543906.000  \n",
       "max         23858374.000  "
      ]
     },
     "execution_count": 5,
     "metadata": {},
     "output_type": "execute_result"
    }
   ],
   "source": [
    "df.describe()"
   ]
  },
  {
   "cell_type": "code",
   "execution_count": 6,
   "metadata": {},
   "outputs": [
    {
     "data": {
      "text/plain": [
       "(1611624.0, -879718.0)"
      ]
     },
     "execution_count": 6,
     "metadata": {},
     "output_type": "execute_result"
    }
   ],
   "source": [
    "# Calculate the interquartile range for your column\n",
    "\n",
    "q1, q3 = df.taxvaluedollarcnt.quantile([.25, .75])\n",
    "\n",
    "iqr = q3 - q1\n",
    "\n",
    "# Create variables holding upper and lower cutoff values using common formula. Tweak as you like.\n",
    "\n",
    "upperbound = q3 + 3 * iqr\n",
    "\n",
    "lowerbound = q1 - 3 * iqr\n",
    "\n",
    "upperbound, lowerbound"
   ]
  },
  {
   "cell_type": "code",
   "execution_count": 7,
   "metadata": {},
   "outputs": [],
   "source": [
    "# Filter the column using your variables and reassign to your dataframe.\n",
    "\n",
    "df = df[df.taxvaluedollarcnt < upperbound]\n"
   ]
  },
  {
   "cell_type": "code",
   "execution_count": 8,
   "metadata": {},
   "outputs": [
    {
     "data": {
      "text/html": [
       "<div>\n",
       "<style scoped>\n",
       "    .dataframe tbody tr th:only-of-type {\n",
       "        vertical-align: middle;\n",
       "    }\n",
       "\n",
       "    .dataframe tbody tr th {\n",
       "        vertical-align: top;\n",
       "    }\n",
       "\n",
       "    .dataframe thead th {\n",
       "        text-align: right;\n",
       "    }\n",
       "</style>\n",
       "<table border=\"1\" class=\"dataframe\">\n",
       "  <thead>\n",
       "    <tr style=\"text-align: right;\">\n",
       "      <th></th>\n",
       "      <th>bathroomcnt</th>\n",
       "      <th>bedroomcnt</th>\n",
       "      <th>calculatedfinishedsquarefeet</th>\n",
       "      <th>taxvaluedollarcnt</th>\n",
       "    </tr>\n",
       "  </thead>\n",
       "  <tbody>\n",
       "    <tr>\n",
       "      <th>count</th>\n",
       "      <td>24084.000</td>\n",
       "      <td>24084.000</td>\n",
       "      <td>24084.000</td>\n",
       "      <td>24084.000</td>\n",
       "    </tr>\n",
       "    <tr>\n",
       "      <th>mean</th>\n",
       "      <td>2.180</td>\n",
       "      <td>2.921</td>\n",
       "      <td>1625.974</td>\n",
       "      <td>391340.203</td>\n",
       "    </tr>\n",
       "    <tr>\n",
       "      <th>std</th>\n",
       "      <td>0.881</td>\n",
       "      <td>0.976</td>\n",
       "      <td>731.057</td>\n",
       "      <td>292548.274</td>\n",
       "    </tr>\n",
       "    <tr>\n",
       "      <th>min</th>\n",
       "      <td>0.000</td>\n",
       "      <td>0.000</td>\n",
       "      <td>240.000</td>\n",
       "      <td>1000.000</td>\n",
       "    </tr>\n",
       "    <tr>\n",
       "      <th>25%</th>\n",
       "      <td>2.000</td>\n",
       "      <td>2.000</td>\n",
       "      <td>1133.000</td>\n",
       "      <td>182744.000</td>\n",
       "    </tr>\n",
       "    <tr>\n",
       "      <th>50%</th>\n",
       "      <td>2.000</td>\n",
       "      <td>3.000</td>\n",
       "      <td>1455.000</td>\n",
       "      <td>324572.500</td>\n",
       "    </tr>\n",
       "    <tr>\n",
       "      <th>75%</th>\n",
       "      <td>3.000</td>\n",
       "      <td>3.000</td>\n",
       "      <td>1919.000</td>\n",
       "      <td>512559.500</td>\n",
       "    </tr>\n",
       "    <tr>\n",
       "      <th>max</th>\n",
       "      <td>10.000</td>\n",
       "      <td>11.000</td>\n",
       "      <td>7942.000</td>\n",
       "      <td>1610000.000</td>\n",
       "    </tr>\n",
       "  </tbody>\n",
       "</table>\n",
       "</div>"
      ],
      "text/plain": [
       "       bathroomcnt  bedroomcnt  calculatedfinishedsquarefeet  \\\n",
       "count    24084.000   24084.000                     24084.000   \n",
       "mean         2.180       2.921                      1625.974   \n",
       "std          0.881       0.976                       731.057   \n",
       "min          0.000       0.000                       240.000   \n",
       "25%          2.000       2.000                      1133.000   \n",
       "50%          2.000       3.000                      1455.000   \n",
       "75%          3.000       3.000                      1919.000   \n",
       "max         10.000      11.000                      7942.000   \n",
       "\n",
       "       taxvaluedollarcnt  \n",
       "count          24084.000  \n",
       "mean          391340.203  \n",
       "std           292548.274  \n",
       "min             1000.000  \n",
       "25%           182744.000  \n",
       "50%           324572.500  \n",
       "75%           512559.500  \n",
       "max          1610000.000  "
      ]
     },
     "execution_count": 8,
     "metadata": {},
     "output_type": "execute_result"
    }
   ],
   "source": [
    "df.describe()"
   ]
  },
  {
   "cell_type": "code",
   "execution_count": 9,
   "metadata": {},
   "outputs": [
    {
     "data": {
      "text/plain": [
       "(24084, 4)"
      ]
     },
     "execution_count": 9,
     "metadata": {},
     "output_type": "execute_result"
    }
   ],
   "source": [
    "df.shape"
   ]
  },
  {
   "cell_type": "code",
   "execution_count": 10,
   "metadata": {},
   "outputs": [
    {
     "data": {
      "text/plain": [
       "((13486, 4), (4817, 4), (5781, 4))"
      ]
     },
     "execution_count": 10,
     "metadata": {},
     "output_type": "execute_result"
    }
   ],
   "source": [
    "#Split the data\n",
    "train, test, validate = prepare.split_stratify_continuous(df, 'taxvaluedollarcnt', bins=5)\n",
    "train.shape, test.shape, validate.shape"
   ]
  },
  {
   "cell_type": "code",
   "execution_count": 11,
   "metadata": {},
   "outputs": [
    {
     "data": {
      "text/html": [
       "<div>\n",
       "<style scoped>\n",
       "    .dataframe tbody tr th:only-of-type {\n",
       "        vertical-align: middle;\n",
       "    }\n",
       "\n",
       "    .dataframe tbody tr th {\n",
       "        vertical-align: top;\n",
       "    }\n",
       "\n",
       "    .dataframe thead th {\n",
       "        text-align: right;\n",
       "    }\n",
       "</style>\n",
       "<table border=\"1\" class=\"dataframe\">\n",
       "  <thead>\n",
       "    <tr style=\"text-align: right;\">\n",
       "      <th></th>\n",
       "      <th>bathroomcnt</th>\n",
       "      <th>bedroomcnt</th>\n",
       "      <th>calculatedfinishedsquarefeet</th>\n",
       "      <th>taxvaluedollarcnt</th>\n",
       "    </tr>\n",
       "    <tr>\n",
       "      <th>parcelid</th>\n",
       "      <th></th>\n",
       "      <th></th>\n",
       "      <th></th>\n",
       "      <th></th>\n",
       "    </tr>\n",
       "  </thead>\n",
       "  <tbody>\n",
       "    <tr>\n",
       "      <th>11348913</th>\n",
       "      <td>3.000</td>\n",
       "      <td>4.000</td>\n",
       "      <td>2829.000</td>\n",
       "      <td>557064.000</td>\n",
       "    </tr>\n",
       "    <tr>\n",
       "      <th>12507741</th>\n",
       "      <td>3.000</td>\n",
       "      <td>2.000</td>\n",
       "      <td>1315.000</td>\n",
       "      <td>300258.000</td>\n",
       "    </tr>\n",
       "    <tr>\n",
       "      <th>12213784</th>\n",
       "      <td>1.000</td>\n",
       "      <td>2.000</td>\n",
       "      <td>992.000</td>\n",
       "      <td>20865.000</td>\n",
       "    </tr>\n",
       "    <tr>\n",
       "      <th>11628655</th>\n",
       "      <td>2.000</td>\n",
       "      <td>2.000</td>\n",
       "      <td>1484.000</td>\n",
       "      <td>401186.000</td>\n",
       "    </tr>\n",
       "    <tr>\n",
       "      <th>10981423</th>\n",
       "      <td>4.000</td>\n",
       "      <td>5.000</td>\n",
       "      <td>4010.000</td>\n",
       "      <td>1075000.000</td>\n",
       "    </tr>\n",
       "  </tbody>\n",
       "</table>\n",
       "</div>"
      ],
      "text/plain": [
       "          bathroomcnt  bedroomcnt  calculatedfinishedsquarefeet  \\\n",
       "parcelid                                                          \n",
       "11348913        3.000       4.000                      2829.000   \n",
       "12507741        3.000       2.000                      1315.000   \n",
       "12213784        1.000       2.000                       992.000   \n",
       "11628655        2.000       2.000                      1484.000   \n",
       "10981423        4.000       5.000                      4010.000   \n",
       "\n",
       "          taxvaluedollarcnt  \n",
       "parcelid                     \n",
       "11348913         557064.000  \n",
       "12507741         300258.000  \n",
       "12213784          20865.000  \n",
       "11628655         401186.000  \n",
       "10981423        1075000.000  "
      ]
     },
     "execution_count": 11,
     "metadata": {},
     "output_type": "execute_result"
    }
   ],
   "source": [
    "train.head()"
   ]
  },
  {
   "cell_type": "code",
   "execution_count": 12,
   "metadata": {},
   "outputs": [
    {
     "data": {
      "text/plain": [
       "<AxesSubplot:xlabel='taxvaluedollarcnt'>"
      ]
     },
     "execution_count": 12,
     "metadata": {},
     "output_type": "execute_result"
    },
    {
     "data": {
      "image/png": "[encoded data removed]",
      "text/plain": [
       "<Figure size 432x288 with 1 Axes>"
      ]
     },
     "metadata": {
      "needs_background": "light"
     },
     "output_type": "display_data"
    }
   ],
   "source": [
    "#Box and whisker for tax value dollar count\n",
    "sns.boxplot(train.taxvaluedollarcnt)"
   ]
  },
  {
   "cell_type": "code",
   "execution_count": 13,
   "metadata": {},
   "outputs": [],
   "source": [
    "#Scale the data\n",
    "\n",
    "#Create the object\n",
    "scaler = sklearn.preprocessing.MinMaxScaler()\n",
    "# Note that we only call .fit with the training data,\n",
    "# but we use .transform to apply the scaling to all the data splits.\n",
    "\n",
    "scaler.fit(train)\n",
    "\n",
    "train_scaled = scaler.transform(train)\n",
    "validate_scaled = scaler.transform(validate)\n",
    "test_scaled = scaler.transform(test)"
   ]
  },
  {
   "cell_type": "code",
   "execution_count": 14,
   "metadata": {},
   "outputs": [],
   "source": [
    "# turn the numpy arrays into dataframes\n",
    "train_scaled = pd.DataFrame(train_scaled, columns=train.columns)\n",
    "validate_scaled = pd.DataFrame(validate_scaled, columns=train.columns)\n",
    "test_scaled = pd.DataFrame(test_scaled, columns=train.columns)"
   ]
  },
  {
   "cell_type": "code",
   "execution_count": 15,
   "metadata": {},
   "outputs": [
    {
     "data": {
      "text/html": [
       "<div>\n",
       "<style scoped>\n",
       "    .dataframe tbody tr th:only-of-type {\n",
       "        vertical-align: middle;\n",
       "    }\n",
       "\n",
       "    .dataframe tbody tr th {\n",
       "        vertical-align: top;\n",
       "    }\n",
       "\n",
       "    .dataframe thead th {\n",
       "        text-align: right;\n",
       "    }\n",
       "</style>\n",
       "<table border=\"1\" class=\"dataframe\">\n",
       "  <thead>\n",
       "    <tr style=\"text-align: right;\">\n",
       "      <th></th>\n",
       "      <th>bathroomcnt</th>\n",
       "      <th>bedroomcnt</th>\n",
       "      <th>calculatedfinishedsquarefeet</th>\n",
       "      <th>taxvaluedollarcnt</th>\n",
       "    </tr>\n",
       "  </thead>\n",
       "  <tbody>\n",
       "    <tr>\n",
       "      <th>0</th>\n",
       "      <td>0.333</td>\n",
       "      <td>0.500</td>\n",
       "      <td>0.364</td>\n",
       "      <td>0.346</td>\n",
       "    </tr>\n",
       "    <tr>\n",
       "      <th>1</th>\n",
       "      <td>0.333</td>\n",
       "      <td>0.250</td>\n",
       "      <td>0.151</td>\n",
       "      <td>0.186</td>\n",
       "    </tr>\n",
       "    <tr>\n",
       "      <th>2</th>\n",
       "      <td>0.111</td>\n",
       "      <td>0.250</td>\n",
       "      <td>0.106</td>\n",
       "      <td>0.012</td>\n",
       "    </tr>\n",
       "    <tr>\n",
       "      <th>3</th>\n",
       "      <td>0.222</td>\n",
       "      <td>0.250</td>\n",
       "      <td>0.175</td>\n",
       "      <td>0.249</td>\n",
       "    </tr>\n",
       "    <tr>\n",
       "      <th>4</th>\n",
       "      <td>0.444</td>\n",
       "      <td>0.625</td>\n",
       "      <td>0.531</td>\n",
       "      <td>0.667</td>\n",
       "    </tr>\n",
       "  </tbody>\n",
       "</table>\n",
       "</div>"
      ],
      "text/plain": [
       "   bathroomcnt  bedroomcnt  calculatedfinishedsquarefeet  taxvaluedollarcnt\n",
       "0        0.333       0.500                         0.364              0.346\n",
       "1        0.333       0.250                         0.151              0.186\n",
       "2        0.111       0.250                         0.106              0.012\n",
       "3        0.222       0.250                         0.175              0.249\n",
       "4        0.444       0.625                         0.531              0.667"
      ]
     },
     "execution_count": 15,
     "metadata": {},
     "output_type": "execute_result"
    }
   ],
   "source": [
    "train_scaled.head()"
   ]
  },
  {
   "cell_type": "code",
   "execution_count": 16,
   "metadata": {},
   "outputs": [
    {
     "data": {
      "text/html": [
       "<div>\n",
       "<style scoped>\n",
       "    .dataframe tbody tr th:only-of-type {\n",
       "        vertical-align: middle;\n",
       "    }\n",
       "\n",
       "    .dataframe tbody tr th {\n",
       "        vertical-align: top;\n",
       "    }\n",
       "\n",
       "    .dataframe thead th {\n",
       "        text-align: right;\n",
       "    }\n",
       "</style>\n",
       "<table border=\"1\" class=\"dataframe\">\n",
       "  <thead>\n",
       "    <tr style=\"text-align: right;\">\n",
       "      <th></th>\n",
       "      <th>bathroomcnt</th>\n",
       "      <th>bedroomcnt</th>\n",
       "      <th>calculatedfinishedsquarefeet</th>\n",
       "      <th>taxvaluedollarcnt</th>\n",
       "    </tr>\n",
       "  </thead>\n",
       "  <tbody>\n",
       "    <tr>\n",
       "      <th>count</th>\n",
       "      <td>13486.000</td>\n",
       "      <td>13486.000</td>\n",
       "      <td>13486.000</td>\n",
       "      <td>13486.000</td>\n",
       "    </tr>\n",
       "    <tr>\n",
       "      <th>mean</th>\n",
       "      <td>0.241</td>\n",
       "      <td>0.364</td>\n",
       "      <td>0.194</td>\n",
       "      <td>0.243</td>\n",
       "    </tr>\n",
       "    <tr>\n",
       "      <th>std</th>\n",
       "      <td>0.097</td>\n",
       "      <td>0.121</td>\n",
       "      <td>0.102</td>\n",
       "      <td>0.181</td>\n",
       "    </tr>\n",
       "    <tr>\n",
       "      <th>min</th>\n",
       "      <td>0.000</td>\n",
       "      <td>0.000</td>\n",
       "      <td>0.000</td>\n",
       "      <td>0.000</td>\n",
       "    </tr>\n",
       "    <tr>\n",
       "      <th>25%</th>\n",
       "      <td>0.222</td>\n",
       "      <td>0.250</td>\n",
       "      <td>0.125</td>\n",
       "      <td>0.115</td>\n",
       "    </tr>\n",
       "    <tr>\n",
       "      <th>50%</th>\n",
       "      <td>0.222</td>\n",
       "      <td>0.375</td>\n",
       "      <td>0.171</td>\n",
       "      <td>0.201</td>\n",
       "    </tr>\n",
       "    <tr>\n",
       "      <th>75%</th>\n",
       "      <td>0.333</td>\n",
       "      <td>0.375</td>\n",
       "      <td>0.234</td>\n",
       "      <td>0.317</td>\n",
       "    </tr>\n",
       "    <tr>\n",
       "      <th>max</th>\n",
       "      <td>1.000</td>\n",
       "      <td>1.000</td>\n",
       "      <td>1.000</td>\n",
       "      <td>1.000</td>\n",
       "    </tr>\n",
       "  </tbody>\n",
       "</table>\n",
       "</div>"
      ],
      "text/plain": [
       "       bathroomcnt  bedroomcnt  calculatedfinishedsquarefeet  \\\n",
       "count    13486.000   13486.000                     13486.000   \n",
       "mean         0.241       0.364                         0.194   \n",
       "std          0.097       0.121                         0.102   \n",
       "min          0.000       0.000                         0.000   \n",
       "25%          0.222       0.250                         0.125   \n",
       "50%          0.222       0.375                         0.171   \n",
       "75%          0.333       0.375                         0.234   \n",
       "max          1.000       1.000                         1.000   \n",
       "\n",
       "       taxvaluedollarcnt  \n",
       "count          13486.000  \n",
       "mean               0.243  \n",
       "std                0.181  \n",
       "min                0.000  \n",
       "25%                0.115  \n",
       "50%                0.201  \n",
       "75%                0.317  \n",
       "max                1.000  "
      ]
     },
     "execution_count": 16,
     "metadata": {},
     "output_type": "execute_result"
    }
   ],
   "source": [
    "train_scaled.describe()"
   ]
  },
  {
   "cell_type": "code",
   "execution_count": 17,
   "metadata": {},
   "outputs": [
    {
     "data": {
      "text/plain": [
       "Text(0.5, 1.0, 'Scaled')"
      ]
     },
     "execution_count": 17,
     "metadata": {},
     "output_type": "execute_result"
    },
    {
     "data": {
      "image/png": "[encoded data removed]",
      "text/plain": [
       "<Figure size 936x432 with 2 Axes>"
      ]
     },
     "metadata": {
      "needs_background": "light"
     },
     "output_type": "display_data"
    }
   ],
   "source": [
    "plt.figure(figsize=(13, 6))\n",
    "plt.subplot(121)\n",
    "plt.hist(train, bins=25, ec='black')\n",
    "plt.title('Original')\n",
    "plt.subplot(122)\n",
    "plt.hist(train_scaled, bins=25, ec='black')\n",
    "plt.title('Scaled')"
   ]
  },
  {
   "cell_type": "code",
   "execution_count": 18,
   "metadata": {},
   "outputs": [
    {
     "data": {
      "text/plain": [
       "<AxesSubplot:>"
      ]
     },
     "execution_count": 18,
     "metadata": {},
     "output_type": "execute_result"
    },
    {
     "data": {
      "image/png": "[encoded data removed]",
      "text/plain": [
       "<Figure size 432x288 with 1 Axes>"
      ]
     },
     "metadata": {
      "needs_background": "light"
     },
     "output_type": "display_data"
    }
   ],
   "source": [
    "train_scaled.bathroomcnt.hist()"
   ]
  },
  {
   "cell_type": "code",
   "execution_count": 19,
   "metadata": {},
   "outputs": [
    {
     "data": {
      "text/plain": [
       "<AxesSubplot:>"
      ]
     },
     "execution_count": 19,
     "metadata": {},
     "output_type": "execute_result"
    },
    {
     "data": {
      "image/png": "[encoded data removed]",
      "text/plain": [
       "<Figure size 432x288 with 1 Axes>"
      ]
     },
     "metadata": {
      "needs_background": "light"
     },
     "output_type": "display_data"
    }
   ],
   "source": [
    "train_scaled.bedroomcnt.hist()"
   ]
  },
  {
   "cell_type": "code",
   "execution_count": 20,
   "metadata": {},
   "outputs": [
    {
     "data": {
      "text/plain": [
       "<AxesSubplot:>"
      ]
     },
     "execution_count": 20,
     "metadata": {},
     "output_type": "execute_result"
    },
    {
     "data": {
      "image/png": "[encoded data removed]",
      "text/plain": [
       "<Figure size 432x288 with 1 Axes>"
      ]
     },
     "metadata": {
      "needs_background": "light"
     },
     "output_type": "display_data"
    }
   ],
   "source": [
    "train_scaled.calculatedfinishedsquarefeet.hist()"
   ]
  },
  {
   "cell_type": "code",
   "execution_count": 21,
   "metadata": {},
   "outputs": [
    {
     "data": {
      "text/plain": [
       "<AxesSubplot:>"
      ]
     },
     "execution_count": 21,
     "metadata": {},
     "output_type": "execute_result"
    },
    {
     "data": {
      "image/png": "[encoded data removed]",
      "text/plain": [
       "<Figure size 432x288 with 1 Axes>"
      ]
     },
     "metadata": {
      "needs_background": "light"
     },
     "output_type": "display_data"
    }
   ],
   "source": [
    "train_scaled.taxvaluedollarcnt.hist()"
   ]
  },
  {
   "cell_type": "markdown",
   "metadata": {},
   "source": [
    "## Initial Observations:\n",
    "    - Bathrooms are right skewed\n",
    "    - Bedrooms are close to normally distributed \n",
    "    - Squarefeet and Tax value are very skewed...likely have some outliers that will want to be explored in second iteration \n",
    "    - Square feet may be the most important feature for predicting a property's value"
   ]
  },
  {
   "cell_type": "code",
   "execution_count": 22,
   "metadata": {},
   "outputs": [
    {
     "data": {
      "image/png": "[encoded data removed]",
      "text/plain": [
       "<Figure size 720x720 with 20 Axes>"
      ]
     },
     "metadata": {
      "needs_background": "light"
     },
     "output_type": "display_data"
    }
   ],
   "source": [
    "g = sns.PairGrid(train_scaled)\n",
    "g.map_diag(plt.hist)\n",
    "g.map_offdiag(plt.scatter);"
   ]
  },
  {
   "cell_type": "code",
   "execution_count": 23,
   "metadata": {},
   "outputs": [
    {
     "data": {
      "image/png": "[encoded data removed]",
      "text/plain": [
       "<Figure size 360x360 with 3 Axes>"
      ]
     },
     "metadata": {},
     "output_type": "display_data"
    }
   ],
   "source": [
    "with sns.axes_style('white'):\n",
    "    j = sns.jointplot(\"calculatedfinishedsquarefeet\", \"taxvaluedollarcnt\", data=train_scaled, kind='reg', height=5);\n",
    "plt.show()"
   ]
  },
  {
   "cell_type": "code",
   "execution_count": 24,
   "metadata": {},
   "outputs": [
    {
     "data": {
      "text/plain": [
       "(0.0, 4.0)"
      ]
     },
     "execution_count": 24,
     "metadata": {},
     "output_type": "execute_result"
    },
    {
     "data": {
      "image/png": "[encoded data removed]",
      "text/plain": [
       "<Figure size 576x432 with 2 Axes>"
      ]
     },
     "metadata": {
      "needs_background": "light"
     },
     "output_type": "display_data"
    }
   ],
   "source": [
    "plt.figure(figsize=(8,6))\n",
    "sns.heatmap(train_scaled.corr(), cmap='Blues', annot=True)\n",
    "plt.ylim(0, 4)"
   ]
  },
  {
   "cell_type": "markdown",
   "metadata": {},
   "source": [
    "## Takeaways after some visualizations:\n",
    "- Expected upward trend in relationship between # of bedrooms and # of bathrooms\n",
    "- Bedrooms and Bathrooms appear to correlate \n",
    "- Seems to be an outlier pulling down the slope of the regression line when comparing calculatedfinishedsquarefeet and taxvaluedollarcnt\n",
    "- Squarefeet and bathrooms seems more closely related than squarefeet and bedrooms\n",
    "    - This seems to make sense from my own experience. Some \"bedrooms\" can be very small. Bathrooms are more difficult to cut out squarefeet on. \n",
    "\n",
    "\n",
    "## Statistical Testing to run:\n",
    "- Is there a correlation between squarefeet and tax value\n",
    "- Bedrooms and Bathrooms seem to be tightly correlated. Test this.\n",
    "    - Test to see if one is a better feature of value than the other. Do I need both?\n",
    "    "
   ]
  },
  {
   "cell_type": "markdown",
   "metadata": {},
   "source": [
    "### Correlation Test for Square Feet and Tax Value"
   ]
  },
  {
   "cell_type": "markdown",
   "metadata": {},
   "source": [
    "H<sub>o</sub> = There is no linear correlation between a single unit property's value and the number of finished square feet. \n",
    "\n",
    "H<sub>*a*</sub> = There is a correlation between a property's value and square feet."
   ]
  },
  {
   "cell_type": "code",
   "execution_count": 25,
   "metadata": {},
   "outputs": [],
   "source": [
    "#Set confidence interval and alpha for Pearson's Correlation Test\n",
    "confidence_int = .95\n",
    "a = 1 - confidence_int"
   ]
  },
  {
   "cell_type": "code",
   "execution_count": 26,
   "metadata": {},
   "outputs": [
    {
     "name": "stdout",
     "output_type": "stream",
     "text": [
      "Pearson's correlation coefficient is: 0.4942666352392237 and the p-value is: 0.0\n",
      "Reject the null hypothesis.\n",
      "Move forward with the understanding that there is a correlation between square feet and  tax value.\n"
     ]
    }
   ],
   "source": [
    "corr, p = stats.pearsonr(train_scaled.calculatedfinishedsquarefeet, train_scaled.taxvaluedollarcnt)\n",
    "print(f\"Pearson's correlation coefficient is: {corr} and the p-value is: {p}\")\n",
    "\n",
    "if p < a:\n",
    "    print(\"Reject the null hypothesis.\")\n",
    "    print(\"Move forward with the understanding that there is a correlation between square feet and  tax value.\")\n",
    "else:\n",
    "    print(\"Fail to reject the null hypothesis. Proceed with an understanding that there is no linear correlation.\")"
   ]
  },
  {
   "cell_type": "markdown",
   "metadata": {},
   "source": [
    "#### Takeaways:\n",
    "    - There is a correlation of .43 and while not the strongest correlation coefficient, finishedsquarefeet will be a feature that I utililze going forward with into modeling. "
   ]
  },
  {
   "cell_type": "markdown",
   "metadata": {},
   "source": [
    "### Correlation Test for Bedrooms and Bathrooms"
   ]
  },
  {
   "cell_type": "markdown",
   "metadata": {},
   "source": [
    "H<sub>o</sub> = There is no linear correlation between the number of bathrooms and the number of bedrooms for a single unit property. \n",
    "\n",
    "H<sub>*a*</sub> = There is a correlation between the number of batrhooms and the number of bedrooms."
   ]
  },
  {
   "cell_type": "code",
   "execution_count": 27,
   "metadata": {},
   "outputs": [],
   "source": [
    "#Set confidence interval and alpha for Pearson's Correlation Test\n",
    "confidence_int = .95\n",
    "a = 1 - confidence_int"
   ]
  },
  {
   "cell_type": "code",
   "execution_count": 28,
   "metadata": {},
   "outputs": [
    {
     "name": "stdout",
     "output_type": "stream",
     "text": [
      "Pearson's correlation coefficient is: 0.5547983402446197 and the p-value is: 0.0\n",
      "Reject the null hypothesis.\n",
      "Move forward with the understanding that there is a correlation between bathroom and bedroom counts.\n"
     ]
    }
   ],
   "source": [
    "corr, p = stats.pearsonr(train_scaled.bathroomcnt, train_scaled.bedroomcnt)\n",
    "print(f\"Pearson's correlation coefficient is: {corr} and the p-value is: {p}\")\n",
    "\n",
    "if p < a:\n",
    "    print(\"Reject the null hypothesis.\")\n",
    "    print(\"Move forward with the understanding that there is a correlation between bathroom and bedroom counts.\")\n",
    "else:\n",
    "    print(\"Fail to reject the null hypothesis. Proceed with an understanding that there is no linear correlation.\")"
   ]
  },
  {
   "cell_type": "markdown",
   "metadata": {},
   "source": [
    "#### Takeaways:\n",
    "    - A modest correlation between the bathroom and bedroom features exists.\n",
    "    - Test to see if one feature is more correlated with taxvaluedollarcnt than the other."
   ]
  },
  {
   "cell_type": "markdown",
   "metadata": {},
   "source": [
    "### Correlation Test for Bedrooms and Value"
   ]
  },
  {
   "cell_type": "markdown",
   "metadata": {},
   "source": [
    "H<sub>o</sub> = There is no linear correlation between the number of bedrooms for a single unit property and the property's value. \n",
    "\n",
    "H<sub>*a*</sub> = There is a correlation between the number of bedrooms and a property's value."
   ]
  },
  {
   "cell_type": "code",
   "execution_count": 29,
   "metadata": {},
   "outputs": [],
   "source": [
    "#Set confidence interval and alpha for Pearson's Correlation Test\n",
    "confidence_int = .95\n",
    "a = 1 - confidence_int"
   ]
  },
  {
   "cell_type": "code",
   "execution_count": 30,
   "metadata": {},
   "outputs": [
    {
     "name": "stdout",
     "output_type": "stream",
     "text": [
      "Pearson's correlation coefficient is: 0.2301789314716149 and the p-value is: 1.2037669505495235e-161\n",
      "Reject the null hypothesis.\n",
      "Move forward with the understanding that there is a correlation between bedroom count and property value.\n"
     ]
    }
   ],
   "source": [
    "corr, p = stats.pearsonr(train_scaled.bedroomcnt, train_scaled.taxvaluedollarcnt)\n",
    "print(f\"Pearson's correlation coefficient is: {corr} and the p-value is: {p}\")\n",
    "\n",
    "if p < a:\n",
    "    print(\"Reject the null hypothesis.\")\n",
    "    print(\"Move forward with the understanding that there is a correlation between bedroom count and property value.\")\n",
    "else:\n",
    "    print(\"Fail to reject the null hypothesis. Proceed with an understanding that there is no linear correlation.\")"
   ]
  },
  {
   "cell_type": "markdown",
   "metadata": {},
   "source": [
    "#### Takeaways:\n",
    "    - Weaker correlation coefficient for bedroom count and property value than the correlation for square feet and property value. \n",
    "    - Still, bedroom count is a feature that I will proceed with as a driver for property value going into modeling."
   ]
  },
  {
   "cell_type": "markdown",
   "metadata": {},
   "source": [
    "### Correlation Test for Bathrooms and Value"
   ]
  },
  {
   "cell_type": "markdown",
   "metadata": {},
   "source": [
    "H<sub>o</sub> = There is no linear correlation between the number of bathrooms for a single unit property and the property's value. \n",
    "\n",
    "H<sub>*a*</sub> = There is a correlation between the number of bathrooms and a property's value."
   ]
  },
  {
   "cell_type": "code",
   "execution_count": 31,
   "metadata": {},
   "outputs": [
    {
     "name": "stdout",
     "output_type": "stream",
     "text": [
      "Pearson's correlation coefficient is: 0.42336404413485895 and the p-value is: 0.0\n",
      "Reject the null hypothesis.\n",
      "Move forward with the understanding that there is a correlation between bathroom count and property value.\n"
     ]
    }
   ],
   "source": [
    "#Set confidence interval and alpha for Pearson's Correlation Test\n",
    "confidence_int = .95\n",
    "a = 1 - confidence_int\n",
    "\n",
    "corr, p = stats.pearsonr(train_scaled.bathroomcnt, train_scaled.taxvaluedollarcnt)\n",
    "print(f\"Pearson's correlation coefficient is: {corr} and the p-value is: {p}\")\n",
    "\n",
    "if p < a:\n",
    "    print(\"Reject the null hypothesis.\")\n",
    "    print(\"Move forward with the understanding that there is a correlation between bathroom count and property value.\")\n",
    "else:\n",
    "    print(\"Fail to reject the null hypothesis. Proceed with an understanding that there is no linear correlation.\")\n"
   ]
  },
  {
   "cell_type": "markdown",
   "metadata": {},
   "source": [
    "#### Takeaways:\n",
    "    - The number of bathrooms is more correlated with a property's value than bedrooms.\n",
    "        - This is aligned with one of my initial hypotheses...\n",
    "            - Could be due to the fact that there is greater variance in bedroom square footage than bathroom square footage? If I had that data, that might be interesting to look at...\n",
    "    - Proceed with bathrooms as a feature for predicting a property's tax value"
   ]
  },
  {
   "cell_type": "markdown",
   "metadata": {},
   "source": [
    "## Modeling"
   ]
  },
  {
   "cell_type": "code",
   "execution_count": 32,
   "metadata": {},
   "outputs": [],
   "source": [
    "# Create X & y version of train, where y is a series with just the target variable and X are all the features. \n",
    "X_train = train.drop(columns=['taxvaluedollarcnt'])\n",
    "y_train = train.taxvaluedollarcnt\n",
    "\n",
    "X_validate = validate.drop(columns=['taxvaluedollarcnt'])\n",
    "y_validate = validate.taxvaluedollarcnt\n",
    "\n",
    "X_test = test.drop(columns=['taxvaluedollarcnt'])\n",
    "y_test = test.taxvaluedollarcnt"
   ]
  },
  {
   "cell_type": "markdown",
   "metadata": {},
   "source": [
    "### Baseline Model"
   ]
  },
  {
   "cell_type": "code",
   "execution_count": 33,
   "metadata": {},
   "outputs": [],
   "source": [
    "# We need y_train and y_validate to be dataframes to append the new columns with predicted values. \n",
    "y_train = pd.DataFrame(y_train)\n",
    "y_validate = pd.DataFrame(y_validate)\n",
    "\n",
    "# 1. Predict taxvaluedollarcnt_pred_mean\n",
    "taxvaluedollarcnt_pred_mean = y_train['taxvaluedollarcnt'].mean()\n",
    "y_train['taxvaluedollarcnt_pred_mean'] = taxvaluedollarcnt_pred_mean\n",
    "y_validate['taxvaluedollarcnt_pred_mean'] = taxvaluedollarcnt_pred_mean\n",
    "\n",
    "# 2. compute taxvaluedollarcnt_pred_median\n",
    "taxvaluedollarcnt_pred_median = y_train['taxvaluedollarcnt'].median()\n",
    "y_train['taxvaluedollarcnt_pred_median'] = taxvaluedollarcnt_pred_median\n",
    "y_validate['taxvaluedollarcnt_pred_median'] = taxvaluedollarcnt_pred_median"
   ]
  },
  {
   "cell_type": "code",
   "execution_count": 34,
   "metadata": {},
   "outputs": [
    {
     "data": {
      "text/plain": [
       "{'sse': 1148759585740400.5,\n",
       " 'mse': 85181639162.12372,\n",
       " 'rmse': 291858.9370948296}"
      ]
     },
     "execution_count": 34,
     "metadata": {},
     "output_type": "execute_result"
    }
   ],
   "source": [
    "#Evaluate the baseline model using the mean\n",
    "evaluate.baseline_mean_errors(y_train.taxvaluedollarcnt)"
   ]
  },
  {
   "cell_type": "code",
   "execution_count": 35,
   "metadata": {},
   "outputs": [
    {
     "data": {
      "text/plain": [
       "{'sse': 1209080157064621.0,\n",
       " 'mse': 89654468119.87402,\n",
       " 'rmse': 299423.5597274771}"
      ]
     },
     "execution_count": 35,
     "metadata": {},
     "output_type": "execute_result"
    }
   ],
   "source": [
    "#Evaluate the baseline model using the median\n",
    "evaluate.baseline_median_errors(y_train.taxvaluedollarcnt)"
   ]
  },
  {
   "cell_type": "code",
   "execution_count": 36,
   "metadata": {},
   "outputs": [
    {
     "data": {
      "image/png": "[encoded data removed]",
      "text/plain": [
       "<Figure size 720x576 with 1 Axes>"
      ]
     },
     "metadata": {
      "needs_background": "light"
     },
     "output_type": "display_data"
    }
   ],
   "source": [
    "# plot to visualize actual vs predicted. \n",
    "plt.figure(figsize=(10, 8))\n",
    "plt.hist(y_train.taxvaluedollarcnt, color='orange', alpha=.5, label=\"Actual Prop Value\", log=True)\n",
    "plt.vlines(y_train.taxvaluedollarcnt.mean(), 0, 10**5,  ls='--', color='blue', label=\"Predicted Prop Value - Mean\")\n",
    "plt.vlines(y_train.taxvaluedollarcnt.median(), 0, 10**5,  ls='--', color='purple', label=\"Predicted Prop Value - Median\")\n",
    "plt.xlabel(\"Property Value\")\n",
    "plt.ylabel(\"Number of Properties\")\n",
    "plt.legend()\n",
    "plt.show()"
   ]
  },
  {
   "cell_type": "code",
   "execution_count": 37,
   "metadata": {},
   "outputs": [
    {
     "data": {
      "text/plain": [
       "{'sse': 1148759585740400.5,\n",
       " 'mse': 85181639162.12372,\n",
       " 'rmse': 291858.9370948296}"
      ]
     },
     "execution_count": 37,
     "metadata": {},
     "output_type": "execute_result"
    }
   ],
   "source": [
    "evaluate.baseline_mean_errors(y_train.taxvaluedollarcnt)"
   ]
  },
  {
   "cell_type": "code",
   "execution_count": 38,
   "metadata": {},
   "outputs": [
    {
     "data": {
      "text/html": [
       "<div>\n",
       "<style scoped>\n",
       "    .dataframe tbody tr th:only-of-type {\n",
       "        vertical-align: middle;\n",
       "    }\n",
       "\n",
       "    .dataframe tbody tr th {\n",
       "        vertical-align: top;\n",
       "    }\n",
       "\n",
       "    .dataframe thead th {\n",
       "        text-align: right;\n",
       "    }\n",
       "</style>\n",
       "<table border=\"1\" class=\"dataframe\">\n",
       "  <thead>\n",
       "    <tr style=\"text-align: right;\">\n",
       "      <th></th>\n",
       "      <th>taxvaluedollarcnt</th>\n",
       "      <th>taxvaluedollarcnt_pred_mean</th>\n",
       "    </tr>\n",
       "    <tr>\n",
       "      <th>parcelid</th>\n",
       "      <th></th>\n",
       "      <th></th>\n",
       "    </tr>\n",
       "  </thead>\n",
       "  <tbody>\n",
       "    <tr>\n",
       "      <th>11348913</th>\n",
       "      <td>557064.000</td>\n",
       "      <td>391522.212</td>\n",
       "    </tr>\n",
       "    <tr>\n",
       "      <th>12507741</th>\n",
       "      <td>300258.000</td>\n",
       "      <td>391522.212</td>\n",
       "    </tr>\n",
       "    <tr>\n",
       "      <th>12213784</th>\n",
       "      <td>20865.000</td>\n",
       "      <td>391522.212</td>\n",
       "    </tr>\n",
       "    <tr>\n",
       "      <th>11628655</th>\n",
       "      <td>401186.000</td>\n",
       "      <td>391522.212</td>\n",
       "    </tr>\n",
       "    <tr>\n",
       "      <th>10981423</th>\n",
       "      <td>1075000.000</td>\n",
       "      <td>391522.212</td>\n",
       "    </tr>\n",
       "  </tbody>\n",
       "</table>\n",
       "</div>"
      ],
      "text/plain": [
       "          taxvaluedollarcnt  taxvaluedollarcnt_pred_mean\n",
       "parcelid                                                \n",
       "11348913         557064.000                   391522.212\n",
       "12507741         300258.000                   391522.212\n",
       "12213784          20865.000                   391522.212\n",
       "11628655         401186.000                   391522.212\n",
       "10981423        1075000.000                   391522.212"
      ]
     },
     "execution_count": 38,
     "metadata": {},
     "output_type": "execute_result"
    }
   ],
   "source": [
    "#Now that I have established the mean as the baseline, I will drop the median and rename baseline to yhat_baseline\n",
    "y_train.drop(columns={'taxvaluedollarcnt_pred_median'}, inplace=True)\n",
    "y_validate.drop(columns={'taxvaluedollarcnt_pred_median'}, inplace=True)\n",
    "y_train.head()"
   ]
  },
  {
   "cell_type": "code",
   "execution_count": 39,
   "metadata": {},
   "outputs": [
    {
     "data": {
      "text/html": [
       "<div>\n",
       "<style scoped>\n",
       "    .dataframe tbody tr th:only-of-type {\n",
       "        vertical-align: middle;\n",
       "    }\n",
       "\n",
       "    .dataframe tbody tr th {\n",
       "        vertical-align: top;\n",
       "    }\n",
       "\n",
       "    .dataframe thead th {\n",
       "        text-align: right;\n",
       "    }\n",
       "</style>\n",
       "<table border=\"1\" class=\"dataframe\">\n",
       "  <thead>\n",
       "    <tr style=\"text-align: right;\">\n",
       "      <th></th>\n",
       "      <th>taxvaluedollarcnt</th>\n",
       "      <th>yhat_baseline</th>\n",
       "    </tr>\n",
       "    <tr>\n",
       "      <th>parcelid</th>\n",
       "      <th></th>\n",
       "      <th></th>\n",
       "    </tr>\n",
       "  </thead>\n",
       "  <tbody>\n",
       "    <tr>\n",
       "      <th>11348913</th>\n",
       "      <td>557064.000</td>\n",
       "      <td>391522.212</td>\n",
       "    </tr>\n",
       "    <tr>\n",
       "      <th>12507741</th>\n",
       "      <td>300258.000</td>\n",
       "      <td>391522.212</td>\n",
       "    </tr>\n",
       "    <tr>\n",
       "      <th>12213784</th>\n",
       "      <td>20865.000</td>\n",
       "      <td>391522.212</td>\n",
       "    </tr>\n",
       "    <tr>\n",
       "      <th>11628655</th>\n",
       "      <td>401186.000</td>\n",
       "      <td>391522.212</td>\n",
       "    </tr>\n",
       "    <tr>\n",
       "      <th>10981423</th>\n",
       "      <td>1075000.000</td>\n",
       "      <td>391522.212</td>\n",
       "    </tr>\n",
       "  </tbody>\n",
       "</table>\n",
       "</div>"
      ],
      "text/plain": [
       "          taxvaluedollarcnt  yhat_baseline\n",
       "parcelid                                  \n",
       "11348913         557064.000     391522.212\n",
       "12507741         300258.000     391522.212\n",
       "12213784          20865.000     391522.212\n",
       "11628655         401186.000     391522.212\n",
       "10981423        1075000.000     391522.212"
      ]
     },
     "execution_count": 39,
     "metadata": {},
     "output_type": "execute_result"
    }
   ],
   "source": [
    "y_train.rename(columns={'taxvaluedollarcnt_pred_mean': 'yhat_baseline'}, inplace=True)\n",
    "y_validate.rename(columns={'taxvaluedollarcnt_pred_mean': 'yhat_baseline'}, inplace=True)\n",
    "y_train.head()"
   ]
  },
  {
   "cell_type": "markdown",
   "metadata": {},
   "source": [
    "#### Takeaways:\n",
    "    - The basline model performs very poorly with either the median or the mean.\n",
    "    - The mean performs slightly better, so I will go with that as the baseline model."
   ]
  },
  {
   "cell_type": "markdown",
   "metadata": {},
   "source": [
    "### LinearRegression (OLS) Model"
   ]
  },
  {
   "cell_type": "code",
   "execution_count": 40,
   "metadata": {},
   "outputs": [],
   "source": [
    "# create the model object\n",
    "lm = LinearRegression(normalize=True)\n",
    "\n",
    "# fit the model to our training data. We must specify the column in y_train, \n",
    "# since we have converted it to a dataframe from a series! \n",
    "lm.fit(X_train, y_train.taxvaluedollarcnt)\n",
    "\n",
    "# predict train\n",
    "y_train['yhat_lm'] = lm.predict(X_train)\n",
    "\n",
    "# compute residuals\n",
    "y_train['residual'] = y_train['yhat_lm'] - y_train['taxvaluedollarcnt']\n",
    "y_train['baseline_residual'] = y_train['yhat_baseline'] - y_train['taxvaluedollarcnt']"
   ]
  },
  {
   "cell_type": "code",
   "execution_count": 41,
   "metadata": {},
   "outputs": [
    {
     "data": {
      "image/png": "[encoded data removed]",
      "text/plain": [
       "<Figure size 432x288 with 1 Axes>"
      ]
     },
     "metadata": {
      "needs_background": "light"
     },
     "output_type": "display_data"
    }
   ],
   "source": [
    "#Use evaluate model to visualize the residuals\n",
    "evaluate.plot_residuals(y_train.taxvaluedollarcnt, y_train.yhat_lm)"
   ]
  },
  {
   "cell_type": "code",
   "execution_count": 42,
   "metadata": {},
   "outputs": [
    {
     "data": {
      "text/plain": [
       "sse     835328277740062.250\n",
       "ess     313431308000338.500\n",
       "tss    1148759585740400.500\n",
       "mse         61940403213.708\n",
       "rmse             248878.290\n",
       "dtype: float64"
      ]
     },
     "execution_count": 42,
     "metadata": {},
     "output_type": "execute_result"
    }
   ],
   "source": [
    "#Retrieve evaluation metrics for Linear Regression Model on in-sample data\n",
    "evaluate.regression_errors(y_train.taxvaluedollarcnt, y_train.yhat_lm)"
   ]
  },
  {
   "cell_type": "code",
   "execution_count": 43,
   "metadata": {},
   "outputs": [
    {
     "data": {
      "text/plain": [
       "True"
      ]
     },
     "execution_count": 43,
     "metadata": {},
     "output_type": "execute_result"
    }
   ],
   "source": [
    "#Does this model perform better than the baseline model on in-sample data?\n",
    "evaluate.better_than_baseline(y_train.taxvaluedollarcnt, y_train.yhat_lm)"
   ]
  },
  {
   "cell_type": "code",
   "execution_count": 44,
   "metadata": {},
   "outputs": [
    {
     "data": {
      "text/plain": [
       "sse    364727349777535.938\n",
       "ess    143804208567650.688\n",
       "tss    500857407139901.875\n",
       "mse        63090702262.158\n",
       "rmse            251178.626\n",
       "dtype: float64"
      ]
     },
     "execution_count": 44,
     "metadata": {},
     "output_type": "execute_result"
    }
   ],
   "source": [
    "#How does this model perform on out of sample data?\n",
    "\n",
    "# predict train\n",
    "y_validate['yhat_lm'] = lm.predict(X_validate)\n",
    "\n",
    "# compute residuals\n",
    "y_validate['residual'] = y_validate['yhat_lm'] - y_validate['taxvaluedollarcnt']\n",
    "y_validate['baseline_residual'] = y_validate['yhat_baseline'] - y_validate['taxvaluedollarcnt']\n",
    "\n",
    "#Retrieve evaluation metrics\n",
    "evaluate.regression_errors(y_validate.taxvaluedollarcnt, y_validate.yhat_lm)"
   ]
  },
  {
   "cell_type": "code",
   "execution_count": 53,
   "metadata": {},
   "outputs": [
    {
     "data": {
      "text/plain": [
       "True"
      ]
     },
     "execution_count": 53,
     "metadata": {},
     "output_type": "execute_result"
    }
   ],
   "source": [
    "#Does this model perform better than the baseline model on out of sample data?\n",
    "evaluate.better_than_baseline(y_validate.taxvaluedollarcnt, y_validate.yhat_lm)"
   ]
  },
  {
   "cell_type": "markdown",
   "metadata": {},
   "source": [
    "### Lasso Lars Model"
   ]
  },
  {
   "cell_type": "code",
   "execution_count": 45,
   "metadata": {},
   "outputs": [],
   "source": [
    "# create the model object\n",
    "lars = LassoLars(alpha=1.0)\n",
    "\n",
    "# fit the model to our training data. We must specify the column in y_train, \n",
    "# since we have converted it to a dataframe from a series! \n",
    "lars.fit(X_train, y_train.taxvaluedollarcnt)\n",
    "\n",
    "# predict train\n",
    "y_train['yhat_lars'] = lars.predict(X_train)"
   ]
  },
  {
   "cell_type": "code",
   "execution_count": 46,
   "metadata": {},
   "outputs": [
    {
     "data": {
      "image/png": "[encoded data removed]",
      "text/plain": [
       "<Figure size 432x288 with 1 Axes>"
      ]
     },
     "metadata": {
      "needs_background": "light"
     },
     "output_type": "display_data"
    }
   ],
   "source": [
    "#Use evaluate model to visualize the residuals\n",
    "evaluate.plot_residuals(y_train.taxvaluedollarcnt, y_train.yhat_lars)"
   ]
  },
  {
   "cell_type": "code",
   "execution_count": 47,
   "metadata": {},
   "outputs": [
    {
     "data": {
      "text/plain": [
       "sse     835329464862512.250\n",
       "ess     312636900165139.500\n",
       "tss    1148759585740400.500\n",
       "mse         61940491239.991\n",
       "rmse             248878.467\n",
       "dtype: float64"
      ]
     },
     "execution_count": 47,
     "metadata": {},
     "output_type": "execute_result"
    }
   ],
   "source": [
    "#Retrieve evaluation metrics for Lasso + Lars Model on in-sample data\n",
    "evaluate.regression_errors(y_train.taxvaluedollarcnt, y_train.yhat_lars)"
   ]
  },
  {
   "cell_type": "code",
   "execution_count": 48,
   "metadata": {},
   "outputs": [
    {
     "data": {
      "text/plain": [
       "True"
      ]
     },
     "execution_count": 48,
     "metadata": {},
     "output_type": "execute_result"
    }
   ],
   "source": [
    "#Does Lassor + Lars perform better than baseline on in-sample data?\n",
    "evaluate.better_than_baseline(y_train.taxvaluedollarcnt, y_train.yhat_lars)"
   ]
  },
  {
   "cell_type": "code",
   "execution_count": 55,
   "metadata": {},
   "outputs": [
    {
     "data": {
      "text/plain": [
       "sse    364714662803249.625\n",
       "ess    143431773982830.312\n",
       "tss    500857407139901.875\n",
       "mse        63088507663.596\n",
       "rmse            251174.258\n",
       "dtype: float64"
      ]
     },
     "execution_count": 55,
     "metadata": {},
     "output_type": "execute_result"
    }
   ],
   "source": [
    "#How does the model perform on out of sample data?\n",
    "\n",
    "# predict on validate\n",
    "y_validate['yhat_lars'] = lars.predict(X_validate)\n",
    "\n",
    "#Retrieve evaluation metrics for Lasso + Lars Model on out of sample data\n",
    "evaluate.regression_errors(y_validate.taxvaluedollarcnt, y_validate.yhat_lars)"
   ]
  },
  {
   "cell_type": "code",
   "execution_count": 56,
   "metadata": {},
   "outputs": [
    {
     "data": {
      "text/plain": [
       "True"
      ]
     },
     "execution_count": 56,
     "metadata": {},
     "output_type": "execute_result"
    }
   ],
   "source": [
    "#Does Lassor + Lars perform better than baseline on in-sample data?\n",
    "evaluate.better_than_baseline(y_validate.taxvaluedollarcnt, y_validate.yhat_lars)"
   ]
  },
  {
   "cell_type": "markdown",
   "metadata": {},
   "source": [
    "### TweedieRegressor (GLM) Model"
   ]
  },
  {
   "cell_type": "code",
   "execution_count": 49,
   "metadata": {},
   "outputs": [],
   "source": [
    "# create the model object\n",
    "glm = TweedieRegressor(power=1, alpha=0)\n",
    "\n",
    "# fit the model to our training data. We must specify the column in y_train, \n",
    "# since we have converted it to a dataframe from a series! \n",
    "glm.fit(X_train, y_train.taxvaluedollarcnt)\n",
    "\n",
    "# predict train\n",
    "y_train['yhat_glm'] = glm.predict(X_train)"
   ]
  },
  {
   "cell_type": "code",
   "execution_count": 50,
   "metadata": {},
   "outputs": [
    {
     "data": {
      "image/png": "[encoded data removed]",
      "text/plain": [
       "<Figure size 432x288 with 1 Axes>"
      ]
     },
     "metadata": {
      "needs_background": "light"
     },
     "output_type": "display_data"
    }
   ],
   "source": [
    "#Use evaluate model to visualize the residuals\n",
    "evaluate.plot_residuals(y_train.taxvaluedollarcnt, y_train.yhat_glm)"
   ]
  },
  {
   "cell_type": "code",
   "execution_count": 51,
   "metadata": {},
   "outputs": [
    {
     "data": {
      "text/plain": [
       "sse    1148759585740400.750\n",
       "ess                   0.000\n",
       "tss    1148759585740400.500\n",
       "mse         85181639162.124\n",
       "rmse             291858.937\n",
       "dtype: float64"
      ]
     },
     "execution_count": 51,
     "metadata": {},
     "output_type": "execute_result"
    }
   ],
   "source": [
    "#How does the GLM model perform on in-sample data?\n",
    "evaluate.regression_errors(y_train.taxvaluedollarcnt, y_train.yhat_glm)"
   ]
  },
  {
   "cell_type": "code",
   "execution_count": 52,
   "metadata": {},
   "outputs": [
    {
     "data": {
      "text/plain": [
       "False"
      ]
     },
     "execution_count": 52,
     "metadata": {},
     "output_type": "execute_result"
    }
   ],
   "source": [
    "#Does the GLM model perform better than baseline on in-sample data?\n",
    "evaluate.better_than_baseline(y_train.taxvaluedollarcnt, y_train.yhat_glm)"
   ]
  },
  {
   "cell_type": "markdown",
   "metadata": {},
   "source": [
    "---"
   ]
  }
 ],
 "metadata": {
  "kernelspec": {
   "display_name": "Python 3",
   "language": "python",
   "name": "python3"
  },
  "language_info": {
   "codemirror_mode": {
    "name": "ipython",
    "version": 3
   },
   "file_extension": ".py",
   "mimetype": "text/x-python",
   "name": "python",
   "nbconvert_exporter": "python",
   "pygments_lexer": "ipython3",
   "version": "3.8.5"
  }
 },
 "nbformat": 4,
 "nbformat_minor": 4
}
